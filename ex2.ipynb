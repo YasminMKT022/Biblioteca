{
  "nbformat": 4,
  "nbformat_minor": 0,
  "metadata": {
    "colab": {
      "provenance": [],
      "authorship_tag": "ABX9TyOv1i9Kht0t+d3vPnuWU0ED",
      "include_colab_link": true
    },
    "kernelspec": {
      "name": "python3",
      "display_name": "Python 3"
    },
    "language_info": {
      "name": "python"
    }
  },
  "cells": [
    {
      "cell_type": "markdown",
      "metadata": {
        "id": "view-in-github",
        "colab_type": "text"
      },
      "source": [
        "<a href=\"https://colab.research.google.com/github/yasmelinss/Biblioteca/blob/main/ex2.ipynb\" target=\"_parent\"><img src=\"https://colab.research.google.com/assets/colab-badge.svg\" alt=\"Open In Colab\"/></a>"
      ]
    },
    {
      "cell_type": "code",
      "source": [
        "#lista_nusp\n",
        "lista_nusp = [91235, 46782, 12345, 42149, 794, 18362, 82016, 11, 5932, 1818, 91375, 246,\n",
        "1920, 1820, 29, 4823, 2540, 18, 28342, 81230, 92304, 9213, 289, 23819, 98233]\n",
        "\n",
        "#função\n",
        "def encontra_nusp(seu_nusp, lista_nusp):\n",
        "#correr na lista_nusp\n",
        "  check = False\n",
        "  for nusp in lista_nusp:\n",
        "      if seu_nusp != lista_nusp and check == False:\n",
        "        check = False\n",
        "      else:\n",
        "        check = True\n",
        "#verifica se a ocorrencia é verdadeira e imprime ao usuário\n",
        "  if check == True:\n",
        "    encontra_nusp = ('sim')\n",
        "  else:\n",
        "    encontra_nusp = ('não')\n",
        "  return encontra_nusp\n",
        "\n"
      ],
      "metadata": {
        "id": "uQ8wVn3R-H7g"
      },
      "execution_count": 20,
      "outputs": []
    },
    {
      "cell_type": "code",
      "source": [
        "encontra_nusp(12345, lista_nusp)"
      ],
      "metadata": {
        "id": "8L4zj3LE_duc",
        "colab": {
          "base_uri": "https://localhost:8080/",
          "height": 35
        },
        "outputId": "11949885-ca6e-43b3-ddf4-5860a487fc34"
      },
      "execution_count": 22,
      "outputs": [
        {
          "output_type": "execute_result",
          "data": {
            "text/plain": [
              "'não'"
            ],
            "application/vnd.google.colaboratory.intrinsic+json": {
              "type": "string"
            }
          },
          "metadata": {},
          "execution_count": 22
        }
      ]
    }
  ]
}